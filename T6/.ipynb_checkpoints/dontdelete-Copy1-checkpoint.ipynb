{
 "cells": [
  {
   "cell_type": "code",
   "execution_count": 1,
   "metadata": {},
   "outputs": [],
   "source": [
    "import numpy as np\n",
    "import matplotlib.pyplot as plt\n",
    "import torch\n",
    "import torchvision\n",
    "import torch.nn as nn\n",
    "from torch.utils.data import DataLoader\n",
    "from torchvision.utils import save_image\n",
    "import os\n",
    "\n",
    "\n",
    "if not os.path.exists('./img'):\n",
    "    os.mkdir('./img')"
   ]
  },
  {
   "cell_type": "code",
   "execution_count": 2,
   "metadata": {},
   "outputs": [],
   "source": [
    "class AutoEncoder(nn.Module):\n",
    "    def __init__(self):\n",
    "        super(AutoEncoder, self).__init__()\n",
    "        self.encoder = nn.Sequential(\n",
    "            nn.Linear(28 * 28, 256),\n",
    "            nn.ReLU(True),\n",
    "            nn.Linear(256, 64),\n",
    "            nn.ReLU(True))\n",
    "        self.decoder = nn.Sequential(\n",
    "            nn.Linear(64, 256),\n",
    "            nn.ReLU(True),\n",
    "            nn.Linear(256, 28 * 28),\n",
    "            nn.Sigmoid())\n",
    "\n",
    "    def forward(self, x):\n",
    "        encoded = self.encoder(x)\n",
    "        output = self.decoder(encoded)\n",
    "        return output\n",
    "    \n",
    "def add_noise(img,sigma=0.4):\n",
    "    noise = torch.randn(img.size()) * sigma\n",
    "    noisy_img = img + noise\n",
    "    return noisy_img"
   ]
  },
  {
   "cell_type": "code",
   "execution_count": 3,
   "metadata": {},
   "outputs": [
    {
     "data": {
      "image/png": "[encoded data removed]",
      "text/plain": [
       "<matplotlib.figure.Figure at 0x7f09ad0cc7b8>"
      ]
     },
     "metadata": {},
     "output_type": "display_data"
    },
    {
     "name": "stdout",
     "output_type": "stream",
     "text": [
      "Finished Training\n"
     ]
    },
    {
     "data": {
      "text/plain": [
       "\"np.save('test_images_clean.npy', test_images_clean)\""
      ]
     },
     "execution_count": 3,
     "metadata": {},
     "output_type": "execute_result"
    }
   ],
   "source": [
    "with np.load('denoising-challenge-01-data.npz') as fh:\n",
    "    training_images_clean = torch.tensor(fh['training_images_clean']).view(20000,28*28)\n",
    "    validation_images_noisy = torch.tensor(fh['validation_images_noisy']).view(2000,28*28)\n",
    "    validation_images_clean = torch.tensor(fh['validation_images_clean']).view(2000,28*28)\n",
    "    test_images_noisy = torch.tensor(fh['test_images_noisy']).view(2000,28*28)\n",
    "    \n",
    "\n",
    "# TRAINING DATA: CLEAN\n",
    "# 1. INDEX: IMAGE SERIAL NUMBER (20000)\n",
    "# 2. INDEX: COLOR CHANNEL (1)\n",
    "# 3/4. INDEX: PIXEL VALUE (28 x 28)\n",
    "\"\"\"print(training_images_clean.shape, training_images_clean.dtype)\"\"\"\n",
    "# VALIDATION DATA: CLEAN + NOISY\n",
    "\"\"\"print(validation_images_clean.shape, validation_images_clean.dtype)\n",
    "print(validation_images_noisy.shape, validation_images_noisy.dtype)\"\"\"\n",
    "# TEST DATA: NOISY\n",
    "\"\"\"print(test_images_noisy.shape, test_images_noisy.dtype)\"\"\"\n",
    "\n",
    "#Daten ausgeben\n",
    "#n=(0,19999)\n",
    "\"\"\"n=19\n",
    "test=training_images_clean\"\"\"\n",
    "#n=(0,1999)\n",
    "\"\"\"n=5\n",
    "test=validation_images_noisy\"\"\"\n",
    "#n=(0,1999)\n",
    "\"\"\"n=1999\n",
    "test=validation_images_clean\"\"\"\n",
    "#n=(0,1999)\n",
    "n=1999\n",
    "test=test_images_noisy\n",
    "plt.figure\n",
    "plt.imshow(test[n].view(28,28),cmap='gray')\n",
    "plt.show()\n",
    "# TRAIN MODEL ON training_images_clean\n",
    "\n",
    "print('Finished Training')\n",
    "# CHECK YOUR MODEL USING (validation_images_clean, validation_images_noisy)\n",
    "\n",
    "# DENOISE IMAGES (test_images_clean) USING test_images_noisy\n",
    "\n",
    "# MAKE SURE THAT YOU HAVE THE RIGHT FORMAT\n",
    "\"\"\"assert test_images_clean.ndim == 4\n",
    "assert test_images_clean.shape[0] == 2000\n",
    "assert test_images_clean.shape[1] == 1\n",
    "assert test_images_clean.shape[2] == 28\n",
    "assert test_images_clean.shape[3] == 28\"\"\"\n",
    "\n",
    "# AND SAVE EXACTLY AS SHOWN BELOW\n",
    "\"\"\"np.save('test_images_clean.npy', test_images_clean)\"\"\""
   ]
  },
  {
   "cell_type": "code",
   "execution_count": null,
   "metadata": {},
   "outputs": [
    {
     "name": "stderr",
     "output_type": "stream",
     "text": [
      "/storage/schuch/anaconda3/lib/python3.6/site-packages/ipykernel_launcher.py:26: UserWarning: invalid index of a 0-dim tensor. This will be an error in PyTorch 0.5. Use tensor.item() to convert a 0-dim tensor to a Python number\n"
     ]
    },
    {
     "name": "stdout",
     "output_type": "stream",
     "text": [
      "====> Epoch: 0 Average loss: 0.0455\n",
      "====> Epoch: 1 Average loss: 0.0299\n",
      "====> Epoch: 2 Average loss: 0.0219\n",
      "====> Epoch: 3 Average loss: 0.0235\n",
      "====> Epoch: 4 Average loss: 0.0168\n",
      "====> Epoch: 5 Average loss: 0.0183\n",
      "====> Epoch: 6 Average loss: 0.0155\n",
      "====> Epoch: 7 Average loss: 0.0148\n",
      "====> Epoch: 8 Average loss: 0.0138\n",
      "====> Epoch: 9 Average loss: 0.0130\n",
      "====> Epoch: 10 Average loss: 0.0130\n",
      "====> Epoch: 11 Average loss: 0.0100\n",
      "====> Epoch: 12 Average loss: 0.0116\n",
      "====> Epoch: 13 Average loss: 0.0118\n",
      "====> Epoch: 14 Average loss: 0.0098\n",
      "====> Epoch: 15 Average loss: 0.0112\n",
      "====> Epoch: 16 Average loss: 0.0131\n",
      "====> Epoch: 17 Average loss: 0.0103\n",
      "====> Epoch: 18 Average loss: 0.0089\n"
     ]
    }
   ],
   "source": [
    "# TRAIN MODEL ON training_images_clean\n",
    "num_epochs = 200\n",
    "batch_size = 128\n",
    "learning_rate = 1e-3\n",
    "\n",
    "autoencoder = AutoEncoder()\n",
    "optimizer = torch.optim.Adam(autoencoder.parameters(), lr=learning_rate, weight_decay=1e-5)\n",
    "loss_func = nn.MSELoss()\n",
    "\n",
    "train_loader = DataLoader(dataset=training_images_clean, batch_size=batch_size, shuffle=True)\n",
    "\n",
    "for epoch in range(num_epochs):\n",
    "    for data in train_loader:\n",
    "        img = data\n",
    "        img = img.view(img.size(0), -1)\n",
    "        # ===================forward=====================\n",
    "        output = autoencoder(img)\n",
    "        loss = loss_func(output,img)\n",
    "        # ===================backward====================\n",
    "        optimizer.zero_grad()\n",
    "        loss.backward()\n",
    "        optimizer.step()\n",
    "        # ====================log========================\n",
    "\n",
    "    print('====> Epoch: {} Average loss: {:.4f}'.format(\n",
    "        epoch, loss.data[0]))\n",
    "    if epoch % 10 == 0:\n",
    "        save = output.view(output.size(0), 1, 28, 28)\n",
    "        save_image(save, './img/image_{}.png'.format(epoch))\n",
    "\n",
    "torch.save(autoencoder.state_dict(), './autoencoder.pth')\n",
    "print('Finished Training')"
   ]
  },
  {
   "cell_type": "code",
   "execution_count": null,
   "metadata": {},
   "outputs": [],
   "source": []
  }
 ],
 "metadata": {
  "kernelspec": {
   "display_name": "Python 3",
   "language": "python",
   "name": "python3"
  },
  "language_info": {
   "codemirror_mode": {
    "name": "ipython",
    "version": 3
   },
   "file_extension": ".py",
   "mimetype": "text/x-python",
   "name": "python",
   "nbconvert_exporter": "python",
   "pygments_lexer": "ipython3",
   "version": "3.6.4"
  }
 },
 "nbformat": 4,
 "nbformat_minor": 2
}
