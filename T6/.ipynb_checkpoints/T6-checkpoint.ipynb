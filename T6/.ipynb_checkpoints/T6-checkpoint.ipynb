{
 "cells": [
  {
   "cell_type": "code",
   "execution_count": 2,
   "metadata": {},
   "outputs": [],
   "source": [
    "import numpy as np\n",
    "import matplotlib.pyplot as plt\n"
   ]
  },
  {
   "cell_type": "code",
   "execution_count": 4,
   "metadata": {},
   "outputs": [],
   "source": [
    "import os\n",
    "import torch\n",
    "import torchvision\n",
    "from torch import nn\n",
    "from torch.autograd import Variable\n",
    "from torch.utils.data import DataLoader\n",
    "from torchvision import transforms\n",
    "from torchvision.datasets import MNIST\n",
    "from torchvision.utils import save_image\n"
   ]
  },
  {
   "cell_type": "code",
   "execution_count": 6,
   "metadata": {},
   "outputs": [
    {
     "name": "stdout",
     "output_type": "stream",
     "text": [
      "training_images torch.Size([20000, 1, 28, 28]) torch.float32\n",
      "validation_clean torch.Size([2000, 1, 28, 28]) torch.float32\n",
      "validation_noise torch.Size([2000, 1, 28, 28]) torch.float32\n",
      "test_images torch.Size([2000, 1, 28, 28]) torch.float32\n"
     ]
    }
   ],
   "source": [
    "# load data\n",
    "\n",
    "with np.load('denoising-challenge-01-data.npz') as fh:\n",
    "    training_images_clean = torch.tensor(fh['training_images_clean'])\n",
    "    validation_images_noisy = torch.tensor(fh['validation_images_noisy'])\n",
    "    validation_images_clean = torch.tensor(fh['validation_images_clean'])\n",
    "    test_images_noisy = torch.tensor(fh['test_images_noisy'])\n",
    "\n",
    "# TRAINING DATA: CLEAN\n",
    "# 1. INDEX: IMAGE SERIAL NUMBER (20000)\n",
    "# 2. INDEX: COLOR CHANNEL (1)\n",
    "# 3/4. INDEX: PIXEL VALUE (28 x 28)\n",
    "print(\"training_images\", training_images_clean.shape, training_images_clean.dtype)\n",
    "\n",
    "# VALIDATION DATA: CLEAN + NOISY\n",
    "print(\"validation_clean\", validation_images_clean.shape, validation_images_clean.dtype)\n",
    "print(\"validation_noise\",validation_images_noisy.shape, validation_images_noisy.dtype)\n",
    "\n",
    "# TEST DATA: NOISY\n",
    "print(\"test_images\", test_images_noisy.shape, test_images_noisy.dtype)\n",
    "\n",
    "# TRAIN MODEL ON training_images_clean\n",
    "\n",
    "# CHECK YOUR MODEL USING (validation_images_clean, validation_images_noisy)\n",
    "\n",
    "# DENOISE IMAGES (test_images_clean) USING test_images_noisy\n",
    "\n",
    "# # MAKE SURE THAT YOU HAVE THE RIGHT FORMAT\n",
    "# assert test_images_clean.ndim == 4\n",
    "# assert test_images_clean.shape[0] == 2000\n",
    "# assert test_images_clean.shape[1] == 1\n",
    "# assert test_images_clean.shape[2] == 28\n",
    "# assert test_images_clean.shape[3] == 28\n",
    "# \n",
    "# # AND SAVE EXACTLY AS SHOWN BELOW\n",
    "# np.save('test_images_clean.npy', test_images_clean)\n"
   ]
  },
  {
   "cell_type": "code",
   "execution_count": 7,
   "metadata": {},
   "outputs": [
    {
     "data": {
      "text/plain": [
       "<matplotlib.image.AxesImage at 0x7fb78cff56a0>"
      ]
     },
     "execution_count": 7,
     "metadata": {},
     "output_type": "execute_result"
    },
    {
     "data": {
      "image/png": "[encoded data removed]",
      "text/plain": [
       "<matplotlib.figure.Figure at 0x7fb78cf90f98>"
      ]
     },
     "metadata": {},
     "output_type": "display_data"
    }
   ],
   "source": [
    "# check one image\n",
    "plt.imshow(training_images_clean[1,0])"
   ]
  },
  {
   "cell_type": "code",
   "execution_count": 8,
   "metadata": {},
   "outputs": [],
   "source": [
    "# create directories\n",
    "\n",
    "# if not os.path.exists('C:\\\\tmp\\\\autoencoder'):\n",
    "#     os.mkdir('C:\\\\tmp\\\\autoencoder')\n",
    "# if not os.path.exists('C:\\\\tmp\\\\autoencoder\\\\mlp_img'):\n",
    "#     os.mkdir('C:\\\\tmp\\\\autoencoder\\\\mlp_img')\n",
    "\n",
    "\n",
    "# helper function\n",
    "\n",
    "def to_img(x):\n",
    "    x = 0.5 * (x + 1)\n",
    "    x = x.clamp(0, 1)\n",
    "    x = x.view(x.size(0), 1, 28, 28)\n",
    "    return x\n"
   ]
  },
  {
   "cell_type": "code",
   "execution_count": 11,
   "metadata": {},
   "outputs": [],
   "source": [
    "# MODEL\n",
    "\n",
    "class autoencoder(nn.Module):\n",
    "    # model\n",
    "    def __init__(self):\n",
    "        super(autoencoder, self).__init__()\n",
    "        \n",
    "        self.encoder = nn.Sequential(\n",
    "            nn.Linear(28 * 28, 128),\n",
    "            nn.ReLU(True),\n",
    "            nn.Linear(128, 64),\n",
    "            nn.ReLU(True), \n",
    "            nn.Linear(64, 12), \n",
    "            nn.ReLU(True), \n",
    "            nn.Linear(12, 3))\n",
    "        \n",
    "        self.decoder = nn.Sequential(\n",
    "            nn.Linear(3, 12),\n",
    "            nn.ReLU(True),\n",
    "            nn.Linear(12, 64),\n",
    "            nn.ReLU(True),\n",
    "            nn.Linear(64, 128),\n",
    "            nn.ReLU(True), \n",
    "            nn.Linear(128, 28 * 28), \n",
    "            nn.Tanh())\n",
    "\n",
    "    def forward(self, x):\n",
    "        x = self.encoder(x)\n",
    "        x = self.decoder(x)\n",
    "        return x\n",
    "\n",
    "\n",
    "# creating the pytorch instances\n",
    "model = autoencoder()\n",
    "# load trained model\n",
    "# model.load_state_dict(torch.load('C:\\\\tmp\\\\autoencoder\\\\autoencoder.pth'))\n",
    "\n",
    "# define optimizer and loss function\n",
    "learning_rate = 1e-3\n",
    "criterion = nn.MSELoss(size_average=False)\n",
    "optimizer = torch.optim.Adam(\n",
    "    model.parameters(), lr=learning_rate, weight_decay=1e-5)"
   ]
  },
  {
   "cell_type": "code",
   "execution_count": 12,
   "metadata": {
    "scrolled": false
   },
   "outputs": [
    {
     "name": "stderr",
     "output_type": "stream",
     "text": [
      "/storage/schuch/anaconda3/lib/python3.6/site-packages/ipykernel_launcher.py:32: UserWarning: invalid index of a 0-dim tensor. This will be an error in PyTorch 0.5. Use tensor.item() to convert a 0-dim tensor to a Python number\n"
     ]
    },
    {
     "name": "stdout",
     "output_type": "stream",
     "text": [
      "epoch [1/5], loss:1485.3423\n",
      "epoch [2/5], loss:1395.7169\n",
      "epoch [3/5], loss:1294.8899\n",
      "epoch [4/5], loss:1164.9102\n",
      "epoch [5/5], loss:1069.3375\n"
     ]
    }
   ],
   "source": [
    "# TRAINING\n",
    "\n",
    "# variables\n",
    "num_epochs = 5\n",
    "batch_size = 128\n",
    "\n",
    "# prep data for pytorch format\n",
    "dataset = training_images_clean\n",
    "dataloader = DataLoader(dataset, batch_size=batch_size, shuffle=True)\n",
    "\n",
    "# workflow\n",
    "for epoch in range(num_epochs):\n",
    "    loss_total = 0\n",
    "    for data in dataloader:\n",
    "        \n",
    "        img = data\n",
    "        img = img.view(img.size(0), -1)\n",
    "        \n",
    "        \n",
    "        # ===================forward=====================\n",
    "        output = model(img)\n",
    "        loss = criterion(output, img)\n",
    "        \n",
    "        \n",
    "        # ===================backward====================\n",
    "        optimizer.zero_grad()\n",
    "        loss.backward()\n",
    "        optimizer.step()\n",
    "        \n",
    "        \n",
    "    # ===================log========================\n",
    "    loss_total += loss.data[0]\n",
    "    print('epoch [{}/{}], loss:{:.4f}'\n",
    "          .format(epoch + 1, num_epochs, loss_total))\n",
    "    \n",
    "    if epoch % 10 == 0:\n",
    "        pic = to_img(output.cpu().data)\n",
    "        save_image(pic, 'c:\\\\tmp\\\\autoencoder\\\\image_{}.png'.format(epoch))"
   ]
  },
  {
   "cell_type": "code",
   "execution_count": 13,
   "metadata": {},
   "outputs": [],
   "source": [
    "# saving trained model\n",
    "torch.save(model.state_dict(), 'C:\\\\tmp\\\\autoencoder\\\\autoencoder.pth')"
   ]
  },
  {
   "cell_type": "code",
   "execution_count": 15,
   "metadata": {},
   "outputs": [
    {
     "name": "stdout",
     "output_type": "stream",
     "text": [
      "validation loss:31.4961\n",
      "proper validation loss:5.5992\n"
     ]
    },
    {
     "name": "stderr",
     "output_type": "stream",
     "text": [
      "/storage/schuch/anaconda3/lib/python3.6/site-packages/ipykernel_launcher.py:35: UserWarning: invalid index of a 0-dim tensor. This will be an error in PyTorch 0.5. Use tensor.item() to convert a 0-dim tensor to a Python number\n"
     ]
    }
   ],
   "source": [
    "# VALIDATION\n",
    "\n",
    "# prep data\n",
    "dataset_val_noise = validation_images_noisy\n",
    "dataset_val_clean = validation_images_clean\n",
    "\n",
    "# workflow\n",
    "with torch.no_grad():\n",
    "    loss_val = 0\n",
    "    for i in range(dataset_val_noise.shape[0]):\n",
    "\n",
    "        img = dataset_val_noise[i]\n",
    "        img = img.view(img.size(0), -1)\n",
    "\n",
    "        img_clean = dataset_val_clean[i]\n",
    "        img_clean = img_clean.view(img_clean.size(0), -1)\n",
    "\n",
    "\n",
    "        # ===================forward=====================\n",
    "        output = model(img)\n",
    "        loss = criterion(output, img_clean)\n",
    "\n",
    "\n",
    "        # # ===================backward====================\n",
    "        # optimizer.zero_grad()\n",
    "        # loss.backward()\n",
    "        # optimizer.step()\n",
    "        \n",
    "        # ====================loss=======================\n",
    "        loss_val += np.sqrt(np.sum((img.numpy()-img_clean.numpy())**2))\n",
    "\n",
    "\n",
    "    # ===================log========================\n",
    "    loss_val /= 2000\n",
    "    print('validation loss:{:.4f}'.format(loss.data[0]))\n",
    "    print('proper validation loss:{:.4f}'.format(loss_val))"
   ]
  },
  {
   "cell_type": "code",
   "execution_count": null,
   "metadata": {},
   "outputs": [],
   "source": []
  },
  {
   "cell_type": "code",
   "execution_count": null,
   "metadata": {},
   "outputs": [],
   "source": []
  },
  {
   "cell_type": "code",
   "execution_count": null,
   "metadata": {},
   "outputs": [],
   "source": []
  },
  {
   "cell_type": "code",
   "execution_count": null,
   "metadata": {},
   "outputs": [],
   "source": []
  },
  {
   "cell_type": "code",
   "execution_count": null,
   "metadata": {},
   "outputs": [],
   "source": []
  }
 ],
 "metadata": {
  "kernelspec": {
   "display_name": "Python 3",
   "language": "python",
   "name": "python3"
  },
  "language_info": {
   "codemirror_mode": {
    "name": "ipython",
    "version": 3
   },
   "file_extension": ".py",
   "mimetype": "text/x-python",
   "name": "python",
   "nbconvert_exporter": "python",
   "pygments_lexer": "ipython3",
   "version": "3.6.4"
  }
 },
 "nbformat": 4,
 "nbformat_minor": 2
}
