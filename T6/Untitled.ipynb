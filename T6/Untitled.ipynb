{
 "cells": [
  {
   "cell_type": "code",
   "execution_count": 3,
   "metadata": {},
   "outputs": [],
   "source": [
    "with np.load('denoising-challenge-01-data.npz') as fh:\n",
    "    training_images_clean = torch.tensor(fh['training_images_clean']).view(20000,28*28)\n",
    "    validation_images_noisy = torch.tensor(fh['validation_images_noisy']).view(2000,28*28)\n",
    "    validation_images_clean = torch.tensor(fh['validation_images_clean']).view(2000,28*28)\n",
    "    test_images_noisy = torch.tensor(fh['test_images_noisy']).view(2000,28*28)\n",
    "    \n",
    "\n",
    "standard_deviation=(validation_images_noisy-validation_images_clean).std(dim=1)\n",
    "sigma=standard_deviation.sum()/standard_deviation.shape[0]\n"
   ]
  },
  {
   "cell_type": "code",
   "execution_count": null,
   "metadata": {},
   "outputs": [],
   "source": []
  }
 ],
 "metadata": {
  "kernelspec": {
   "display_name": "Python 3",
   "language": "python",
   "name": "python3"
  },
  "language_info": {
   "codemirror_mode": {
    "name": "ipython",
    "version": 3
   },
   "file_extension": ".py",
   "mimetype": "text/x-python",
   "name": "python",
   "nbconvert_exporter": "python",
   "pygments_lexer": "ipython3",
   "version": "3.6.4"
  }
 },
 "nbformat": 4,
 "nbformat_minor": 2
}
