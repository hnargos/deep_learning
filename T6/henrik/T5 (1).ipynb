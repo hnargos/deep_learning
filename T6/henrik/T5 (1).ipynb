{
 "cells": [
  {
   "cell_type": "code",
   "execution_count": 95,
   "metadata": {},
   "outputs": [],
   "source": [
    "import numpy as np\n",
    "import matplotlib.pyplot as plt\n"
   ]
  },
  {
   "cell_type": "code",
   "execution_count": 96,
   "metadata": {},
   "outputs": [
    {
     "data": {
      "text/plain": [
       "tensor(2.0059)"
      ]
     },
     "execution_count": 96,
     "metadata": {},
     "output_type": "execute_result"
    }
   ],
   "source": [
    "loss = nn.MSELoss()\n",
    "input1 = torch.randn(100, 1,28,28)\n",
    "input2 = torch.randn(100, 1,28,28)\n",
    "output = loss(input1, input2)\n",
    "output"
   ]
  },
  {
   "cell_type": "code",
   "execution_count": 97,
   "metadata": {},
   "outputs": [],
   "source": [
    "import os\n",
    "import torch\n",
    "import torchvision\n",
    "from torch import nn\n",
    "from torch.autograd import Variable\n",
    "from torch.utils.data import DataLoader\n",
    "from torchvision import transforms\n",
    "from torchvision.datasets import MNIST\n",
    "from torchvision.utils import save_image"
   ]
  },
  {
   "cell_type": "code",
   "execution_count": 98,
   "metadata": {},
   "outputs": [
    {
     "name": "stdout",
     "output_type": "stream",
     "text": [
      "training_images torch.Size([20000, 1, 28, 28]) torch.float32\n",
      "validation_clean torch.Size([2000, 1, 28, 28]) torch.float32\n",
      "validation_noise torch.Size([2000, 1, 28, 28]) torch.float32\n",
      "test_images torch.Size([2000, 1, 28, 28]) torch.float32\n"
     ]
    }
   ],
   "source": [
    "# load data\n",
    "\n",
    "with np.load('denoising-challenge-01-data.npz') as fh:\n",
    "    training_images_clean = torch.tensor(fh['training_images_clean'])\n",
    "    validation_images_noisy = torch.tensor(fh['validation_images_noisy'])\n",
    "    validation_images_clean = torch.tensor(fh['validation_images_clean'])\n",
    "    test_images_noisy = torch.tensor(fh['test_images_noisy'])\n",
    "\n",
    "# TRAINING DATA: CLEAN\n",
    "# 1. INDEX: IMAGE SERIAL NUMBER (20000)\n",
    "# 2. INDEX: COLOR CHANNEL (1)\n",
    "# 3/4. INDEX: PIXEL VALUE (28 x 28)\n",
    "print(\"training_images\", training_images_clean.shape, training_images_clean.dtype)\n",
    "\n",
    "# VALIDATION DATA: CLEAN + NOISY\n",
    "print(\"validation_clean\", validation_images_clean.shape, validation_images_clean.dtype)\n",
    "print(\"validation_noise\",validation_images_noisy.shape, validation_images_noisy.dtype)\n",
    "\n",
    "# TEST DATA: NOISY\n",
    "print(\"test_images\", test_images_noisy.shape, test_images_noisy.dtype)\n",
    "\n",
    "# TRAIN MODEL ON training_images_clean\n",
    "\n",
    "# CHECK YOUR MODEL USING (validation_images_clean, validation_images_noisy)\n",
    "\n",
    "# DENOISE IMAGES (test_images_clean) USING test_images_noisy\n",
    "\n",
    "# # MAKE SURE THAT YOU HAVE THE RIGHT FORMAT\n",
    "# assert test_images_clean.ndim == 4\n",
    "# assert test_images_clean.shape[0] == 2000\n",
    "# assert test_images_clean.shape[1] == 1\n",
    "# assert test_images_clean.shape[2] == 28\n",
    "# assert test_images_clean.shape[3] == 28\n",
    "# \n",
    "# # AND SAVE EXACTLY AS SHOWN BELOW\n",
    "# np.save('test_images_clean.npy', test_images_clean)"
   ]
  },
  {
   "cell_type": "code",
   "execution_count": 99,
   "metadata": {
    "scrolled": true
   },
   "outputs": [
    {
     "data": {
      "text/plain": [
       "<matplotlib.image.AxesImage at 0x7f0dd35406d8>"
      ]
     },
     "execution_count": 99,
     "metadata": {},
     "output_type": "execute_result"
    },
    {
     "data": {
      "image/png": "[encoded data removed]",
      "text/plain": [
       "<matplotlib.figure.Figure at 0x7f0dd34c1a90>"
      ]
     },
     "metadata": {},
     "output_type": "display_data"
    }
   ],
   "source": [
    "# check one image\n",
    "plt.imshow(validation_images_noisy[5,0])"
   ]
  },
  {
   "cell_type": "code",
   "execution_count": 100,
   "metadata": {},
   "outputs": [
    {
     "data": {
      "text/plain": [
       "<matplotlib.image.AxesImage at 0x7f0dd01c3cf8>"
      ]
     },
     "execution_count": 100,
     "metadata": {},
     "output_type": "execute_result"
    },
    {
     "data": {
      "image/png": "[encoded data removed]",
      "text/plain": [
       "<matplotlib.figure.Figure at 0x7f0dd019b0f0>"
      ]
     },
     "metadata": {},
     "output_type": "display_data"
    }
   ],
   "source": [
    "plt.imshow((validation_images_clean[5,0] + 0.22 *\n",
    "                   (torch.normal(0,std=torch.ones_like(training_images_clean))\n",
    "                    ))[1,0])\n"
   ]
  },
  {
   "cell_type": "code",
   "execution_count": 101,
   "metadata": {},
   "outputs": [],
   "source": [
    "# create directories\n",
    "\n",
    "# if not os.path.exists('C:\\\\tmp\\\\autoencoder'):\n",
    "#     os.mkdir('C:\\\\tmp\\\\autoencoder')\n",
    "# if not os.path.exists('C:\\\\tmp\\\\autoencoder\\\\mlp_img'):\n",
    "#     os.mkdir('C:\\\\tmp\\\\autoencoder\\\\mlp_img')\n",
    "\n",
    "\n",
    "# helper function\n",
    "\n",
    "def to_img(x):\n",
    "    x = 0.5 * (x + 1)\n",
    "    x = x.clamp(0, 1)\n",
    "    x = x.view(x.size(0), 1, 28, 28)\n",
    "    return x\n"
   ]
  },
  {
   "cell_type": "code",
   "execution_count": 102,
   "metadata": {},
   "outputs": [],
   "source": [
    "# MODEL\n",
    "\n",
    "class autoencoder(nn.Module):\n",
    "    # model\n",
    "    def __init__(self):\n",
    "        super(autoencoder, self).__init__()\n",
    "        \n",
    "        self.encoder = nn.Sequential(\n",
    "            nn.Linear(28 * 28, 128),\n",
    "            nn.ReLU(True),\n",
    "            nn.Linear(128, 64))#,\n",
    "            # nn.ReLU(True), \n",
    "            # nn.Linear(64, 12), \n",
    "            # nn.ReLU(True), \n",
    "            # nn.Linear(12, 3))\n",
    "        \n",
    "        self.decoder = nn.Sequential(\n",
    "            # nn.Linear(3, 12),\n",
    "            # nn.ReLU(True),\n",
    "            # nn.Linear(12, 64),\n",
    "            # nn.ReLU(True),\n",
    "            nn.Linear(64, 128),\n",
    "            nn.ReLU(True), \n",
    "            nn.Linear(128, 28 * 28), \n",
    "            nn.Tanh())\n",
    "\n",
    "    def forward(self, x):\n",
    "        x = self.encoder(x)\n",
    "        x = self.decoder(x)\n",
    "        return x"
   ]
  },
  {
   "cell_type": "code",
   "execution_count": 103,
   "metadata": {
    "scrolled": false
   },
   "outputs": [
    {
     "name": "stderr",
     "output_type": "stream",
     "text": [
      "/storage/schuch/anaconda3/lib/python3.6/site-packages/ipykernel_launcher.py:81: UserWarning: invalid index of a 0-dim tensor. This will be an error in PyTorch 0.5. Use tensor.item() to convert a 0-dim tensor to a Python number\n"
     ]
    },
    {
     "name": "stdout",
     "output_type": "stream",
     "text": [
      "distribution parameter: 0.2200     proper validation loss:5.1320\n"
     ]
    }
   ],
   "source": [
    "# variables\n",
    "num_epochs = 100\n",
    "batch_size = 128\n",
    "# parameter = 1.\n",
    "\n",
    "\n",
    "# hyperparameter optimization\n",
    "hy_parameter1 = np.array([0.22,1]) # np.arange(22,31,3)*0.01\n",
    "validation_loss_arr = np.zeros_like(hy_parameter1)\n",
    "training_loss_arr = np.zeros_like(hy_parameter1)\n",
    "\n",
    "for parameter in hy_parameter1:\n",
    "    if parameter==1:\n",
    "        break\n",
    "    counter = 0\n",
    "    \n",
    "    #print('for the distribution parameter: {:.2f}'.format(parameter))\n",
    "\n",
    "    # =========INI MODEL=========\n",
    "    # creating the pytorch instances\n",
    "    model = autoencoder()\n",
    "    # load trained model\n",
    "    # model.load_state_dict(torch.load('C:\\\\tmp\\\\autoencoder\\\\autoencoder.pth'))\n",
    "\n",
    "    # define optimizer and loss function\n",
    "    learning_rate = 1e-3\n",
    "    criterion = nn.MSELoss()\n",
    "    optimizer = torch.optim.Adam(\n",
    "        model.parameters(), lr=learning_rate, weight_decay=1e-5)\n",
    "\n",
    "\n",
    "    # =========TRAINING=========\n",
    "    # workflow\n",
    "    for epoch in range(num_epochs):\n",
    "        dataset = torch.tensor\n",
    "\n",
    "        # prep data for pytorch format  ######### have to shuffel clean data with noise\n",
    "        # applying noramal distribution\n",
    "        #### torch.tensor(np.zeros((3,2,1)))\n",
    "        #dataset = torch.tensor(np.zeros((training_images_clean.shape[0],\n",
    "        #                                 2,\n",
    "        #                                 training_images_clean.shape[2],\n",
    "        #                                 training_images_clean.shape[3])))\n",
    "        ####\n",
    "        dataset = ((training_images_clean + parameter *\n",
    "                   (torch.normal(0,std=torch.ones_like(training_images_clean)))),\n",
    "                   training_images_clean\n",
    "                  )\n",
    "        dataloader = DataLoader(dataset, batch_size=batch_size, shuffle=True)\n",
    "\n",
    "        data_counter = 0\n",
    "        \n",
    "        for data in dataloader:\n",
    "\n",
    "            # prep data for pytorch\n",
    "            img, img_clean = data\n",
    "            img, img_clean = img.view(img.size(0), -1), img_clean.view(img_clean.size(0),-1)\n",
    "\n",
    "\n",
    "            # ===================forward=====================\n",
    "            output = model(img)\n",
    "            loss = criterion(output, img_clean)\n",
    "\n",
    "\n",
    "            # ===================backward====================\n",
    "            optimizer.zero_grad()\n",
    "            loss.backward()\n",
    "            optimizer.step()\n",
    "            \n",
    "            data_counter += 1\n",
    "\n",
    "\n",
    "        # ===================log========================\n",
    "        # print('epoch [{}/{}], loss:{:.4f}'\n",
    "        #       .format(epoch + 1, num_epochs, loss.data[0]))\n",
    "\n",
    "        # if epoch % 10 == 0:\n",
    "        #     pic = to_img(output.cpu().data)\n",
    "        #     save_image(pic, 'c:\\\\tmp\\\\autoencoder\\\\image_{}.png'.format(epoch))\n",
    "    \n",
    "    training_loss_arr[counter] = loss.data[0]\n",
    "\n",
    "\n",
    "\n",
    "    # =========VALIDATION=========\n",
    "    # prep data\n",
    "    dataset_val_noise = validation_images_noisy\n",
    "    dataset_val_clean = validation_images_clean\n",
    "\n",
    "    # workflow\n",
    "    with torch.no_grad():\n",
    "        \n",
    "        loss_val = 0\n",
    "        \n",
    "        for i in range(dataset_val_noise.shape[0]):\n",
    "\n",
    "            # prep data for pytorch\n",
    "            img = dataset_val_noise[i]\n",
    "            img = img.view(img.size(0), -1)\n",
    "\n",
    "            img_clean = dataset_val_clean[i]\n",
    "            img_clean = img_clean.view(img_clean.size(0), -1)\n",
    "\n",
    "\n",
    "            # ===================forward=====================\n",
    "            output = model(img)\n",
    "            loss = criterion(output, img_clean)\n",
    "\n",
    "\n",
    "            # # ===================backward====================\n",
    "            # optimizer.zero_grad()\n",
    "            # loss.backward()\n",
    "            # optimizer.step()\n",
    "\n",
    "            # ====================loss=======================\n",
    "            loss_val += np.sqrt(np.sum((output.numpy()-img_clean.numpy())**2))\n",
    "\n",
    "\n",
    "        # ===================log========================\n",
    "        loss_val /= 2000\n",
    "        validation_loss_arr[counter] = loss_val\n",
    "        counter += 1\n",
    "        # print('validation loss:{:.4f}'.format(loss.data[0]))\n",
    "        print('distribution parameter: {:.4f}'.format(parameter),\n",
    "              '    proper validation loss:{:.4f}'.format(loss_val))\n",
    "        \n",
    "    # saving trained model\n",
    "    filepath = 'C:\\\\tmp\\\\autoencoder\\\\autoencoder_{}_{}.pth'.format(parameter,num_epochs)\n"
   ]
  },
  {
   "cell_type": "code",
   "execution_count": null,
   "metadata": {},
   "outputs": [],
   "source": []
  }
 ],
 "metadata": {
  "kernelspec": {
   "display_name": "Python 3",
   "language": "python",
   "name": "python3"
  },
  "language_info": {
   "codemirror_mode": {
    "name": "ipython",
    "version": 3
   },
   "file_extension": ".py",
   "mimetype": "text/x-python",
   "name": "python",
   "nbconvert_exporter": "python",
   "pygments_lexer": "ipython3",
   "version": "3.6.4"
  }
 },
 "nbformat": 4,
 "nbformat_minor": 2
}
