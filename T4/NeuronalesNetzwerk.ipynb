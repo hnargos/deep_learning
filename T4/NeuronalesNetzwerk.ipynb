{
 "cells": [
  {
   "cell_type": "code",
   "execution_count": 3,
   "metadata": {
    "collapsed": true
   },
   "outputs": [],
   "source": [
    "import tensorflow as tf\n",
    "import numpy as np\n",
    "import matplotlib.pyplot as plt"
   ]
  },
  {
   "cell_type": "code",
   "execution_count": 20,
   "metadata": {
    "collapsed": false
   },
   "outputs": [
    {
     "data": {
      "text/plain": [
       "\"np.save('prediction.npy', prediction)\""
      ]
     },
     "execution_count": 20,
     "metadata": {},
     "output_type": "execute_result"
    }
   ],
   "source": [
    "#Dateien laden und shufflen (shufflen ist6 immer gut)\n",
    "with np.load('prediction-challenge-02-data.npz') as fh:\n",
    "    data_shuffle_index=np.arange(6000)\n",
    "    np.random.shuffle(data_shuffle_index)\n",
    "    data_x = fh['data_x'][data_shuffle_index]\n",
    "    data_y = fh['data_y'][data_shuffle_index]\n",
    "    test_x = fh['test_x']\n",
    "\n",
    "# TRAINING DATA: INPUT (x) AND OUTPUT (y)\n",
    "# 1. INDEX: IMAGE SERIAL NUMBER (6000)\n",
    "# 2. INDEX: COLOR CHANNELS (3)\n",
    "# 3/4. INDEX: PIXEL VALUE (32 x 32)\n",
    "\"\"\"print(data_x.shape, data_x.dtype)\n",
    "print(data_y.shape, data_y.dtype)\"\"\"\n",
    "\n",
    "# TEST DATA: INPUT (x) ONLY\n",
    "\"\"\"print(test_x.shape, test_x.dtype)\"\"\"\n",
    "\n",
    "#Daten ausgeben\n",
    "# neuer shape mit (n,32,32,3) (plt.imshow compatibel)\n",
    "\"\"\"data_x=np.rollaxis(data_x,1,4)\n",
    "test_x=np.rollaxis(test_x,1,4)\"\"\"\n",
    "#n=0-6000\n",
    "\"\"\"n=5001\n",
    "plt.imshow(data_x[n])\"\"\"\n",
    "#titel beschreiben\n",
    "\"\"\"def tier(x):\n",
    "    if x==0:\n",
    "        return\"cat\"\n",
    "    elif x==1:\n",
    "        return\"dog\"\n",
    "    elif x==2:\n",
    "        return \"frog\"\n",
    "    else:\n",
    "        return\"error\"\n",
    "plt.title(tier(data_y[n]))\n",
    "plt.show()\"\"\"\n",
    "#generiere mehr testdaten\n",
    "\n",
    "\n",
    "############################################\n",
    "# TRAIN MODEL ON data_x, data_y\n",
    "\n",
    "# PREDICT prediction FROM test_x\n",
    "\n",
    "# MAKE SURE THAT YOU HAVE THE RIGHT FORMAT\n",
    "\"\"\"assert prediction.ndim == 1\n",
    "assert prediction.shape[0] == 300\"\"\"\n",
    "\n",
    "# AND SAVE EXACTLY AS SHOWN BELOW\n",
    "\"\"\"np.save('prediction.npy', prediction)\"\"\""
   ]
  },
  {
   "cell_type": "code",
   "execution_count": 23,
   "metadata": {
    "collapsed": false
   },
   "outputs": [],
   "source": [
    "\n",
    "def deep_cnn(features):\n",
    "    #Input Layer \n",
    "    input_layer=tf.convert_to_tensor(features)\n",
    "    #convolutional Layer \n",
    "    conv1 = tf.layers.conv2d(\n",
    "        inputs=input_layer,\n",
    "        filters=32,\n",
    "        kernel_size=[5, 5],\n",
    "        padding=\"same\",\n",
    "        data_format=\"channels_first\",\n",
    "        activation=tf.nn.relu)\n",
    "    #pooling layer\n",
    "    pool1 = tf.layers.average_pooling2d(\n",
    "        inputs=conv1,\n",
    "        pool_size=[2, 2],\n",
    "        strides=2,\n",
    "        data_format=\"channels_first\")\n",
    "    #convolutional Layer #2\n",
    "    conv2 = tf.layers.conv2d(\n",
    "        inputs=pool1,\n",
    "        filters=64,\n",
    "        kernel_size=[3, 3],\n",
    "        data_format=\"channels_first\",\n",
    "        padding=\"same\",\n",
    "        activation=tf.nn.relu)\n",
    "    #pooling layer #2\n",
    "    pool2 = tf.layers.max_pooling2d(\n",
    "        inputs=conv2,\n",
    "        pool_size=[2, 2],\n",
    "        strides=2,\n",
    "        data_format=\"channels_first\")\n",
    "    #convolutional Layer #3\n",
    "    conv2 = tf.layers.conv2d(\n",
    "        inputs=pool2,\n",
    "        filters=128,\n",
    "        kernel_size=[3, 3],\n",
    "        data_format=\"channels_first\",\n",
    "        padding=\"same\",\n",
    "        activation=tf.nn.relu)\n",
    "    #pooling layer #3\n",
    "    pool2 = tf.layers.max_pooling2d(\n",
    "        inputs=conv,\n",
    "        pool_size=[2, 2],\n",
    "        strides=2,\n",
    "        data_format=\"channels_first\")\n",
    "    # Dense Layer\n",
    "    pool2_flat = tf.reshape(pool2, [-1, 7 * 7 * 64])\n",
    "    dense = tf.layers.dense(inputs=pool2_flat, units=1024, activation=tf.nn.relu)\n",
    "    dropout = tf.layers.dropout(\n",
    "        inputs=dense,\n",
    "        rate=0.4,\n",
    "        training=mode == tf.estimator.ModeKeys.TRAIN)\n"
   ]
  },
  {
   "cell_type": "code",
   "execution_count": 22,
   "metadata": {
    "collapsed": false
   },
   "outputs": [
    {
     "name": "stdout",
     "output_type": "stream",
     "text": [
      "(2, 3, 32, 32)\n",
      "(2, 3, 32, 32)\n"
     ]
    }
   ],
   "source": [
    "test_cnn_x=data_x[0:2]\n",
    "test_cnn_y=data_y[0:2]\n",
    "print(test_cnn_x.shape)\n",
    "#Input Layer \n",
    "input_layer=tf.convert_to_tensor(test_cnn_x)\n",
    "print(input_layer.shape)"
   ]
  },
  {
   "cell_type": "code",
   "execution_count": 34,
   "metadata": {
    "collapsed": false
   },
   "outputs": [],
   "source": [
    "#Input Layer \n",
    "input_layer=tf.convert_to_tensor(test_cnn_x)\n",
    "\n",
    "#convolutional Layer #1\n",
    "conv1 = tf.layers.conv2d(\n",
    "    inputs=input_layer,\n",
    "    filters=33,\n",
    "    kernel_size=[5, 5],\n",
    "    data_format=\"channels_first\",\n",
    "    padding=\"same\",\n",
    "    activation=tf.nn.relu)\n",
    "#pooling layer #1\n",
    "pool1 = tf.layers.max_pooling2d(\n",
    "    inputs=conv1,\n",
    "    pool_size=[2, 2],\n",
    "    strides=2,\n",
    "    data_format=\"channels_first\")\n",
    "#convolutional Layer #2\n",
    "conv2 = tf.layers.conv2d(\n",
    "    inputs=pool1,\n",
    "    filters=64,\n",
    "    kernel_size=[3, 3],\n",
    "    data_format=\"channels_first\",\n",
    "    padding=\"same\",\n",
    "    activation=tf.nn.relu)\n",
    "#pooling layer #2\n",
    "pool2 = tf.layers.max_pooling2d(\n",
    "    inputs=conv2,\n",
    "    pool_size=[2, 2],\n",
    "    strides=2,\n",
    "    data_format=\"channels_first\")\n",
    "#convolutional Layer #3\n",
    "conv3 = tf.layers.conv2d(\n",
    "    inputs=pool2,\n",
    "    filters=128,\n",
    "    kernel_size=[3, 3],\n",
    "    data_format=\"channels_first\",\n",
    "    padding=\"same\",\n",
    "    activation=tf.nn.relu)\n",
    "#pooling layer #3\n",
    "pool3 = tf.layers.max_pooling2d(\n",
    "    inputs=conv3,\n",
    "    pool_size=[2, 2],\n",
    "    strides=2,\n",
    "    data_format=\"channels_first\")\n"
   ]
  },
  {
   "cell_type": "code",
   "execution_count": 35,
   "metadata": {
    "collapsed": false
   },
   "outputs": [
    {
     "name": "stdout",
     "output_type": "stream",
     "text": [
      "Tensor(\"conv2d_19/Relu:0\", shape=(2, 33, 32, 32), dtype=float32)\n",
      "Tensor(\"max_pooling2d_16/MaxPool:0\", shape=(2, 33, 16, 16), dtype=float32)\n",
      "Tensor(\"conv2d_20/Relu:0\", shape=(2, 64, 16, 16), dtype=float32)\n",
      "Tensor(\"max_pooling2d_17/MaxPool:0\", shape=(2, 64, 8, 8), dtype=float32)\n",
      "Tensor(\"conv2d_21/Relu:0\", shape=(2, 128, 8, 8), dtype=float32)\n",
      "Tensor(\"max_pooling2d_18/MaxPool:0\", shape=(2, 128, 4, 4), dtype=float32)\n"
     ]
    }
   ],
   "source": [
    "print(conv1)\n",
    "print(pool1)\n",
    "print(conv2)\n",
    "print(pool2)\n",
    "print(conv3)\n",
    "print(pool3)"
   ]
  },
  {
   "cell_type": "code",
   "execution_count": 16,
   "metadata": {
    "collapsed": false
   },
   "outputs": [
    {
     "ename": "TypeError",
     "evalue": "image() got an unexpected keyword argument 'data_format'",
     "output_type": "error",
     "traceback": [
      "\u001b[0;31m---------------------------------------------------------------------------\u001b[0m",
      "\u001b[0;31mTypeError\u001b[0m                                 Traceback (most recent call last)",
      "\u001b[0;32m<ipython-input-16-ed2b4125930a>\u001b[0m in \u001b[0;36m<module>\u001b[0;34m()\u001b[0m\n\u001b[1;32m      5\u001b[0m     \u001b[0mmax_outputs\u001b[0m\u001b[0;34m=\u001b[0m\u001b[0;36m3\u001b[0m\u001b[0;34m,\u001b[0m\u001b[0;34m\u001b[0m\u001b[0m\n\u001b[1;32m      6\u001b[0m     \u001b[0mcollections\u001b[0m\u001b[0;34m=\u001b[0m\u001b[0;32mNone\u001b[0m\u001b[0;34m,\u001b[0m\u001b[0;34m\u001b[0m\u001b[0m\n\u001b[0;32m----> 7\u001b[0;31m     family=None)\n\u001b[0m",
      "\u001b[0;31mTypeError\u001b[0m: image() got an unexpected keyword argument 'data_format'"
     ]
    }
   ],
   "source": [
    "tf.summary.image(\n",
    "    name=test_cnn_y,\n",
    "    tensor=input_layer,\n",
    "    max_outputs=3,\n",
    "    collections=None,\n",
    "    family=None)\n"
   ]
  },
  {
   "cell_type": "code",
   "execution_count": null,
   "metadata": {
    "collapsed": true
   },
   "outputs": [],
   "source": []
  }
 ],
 "metadata": {
  "kernelspec": {
   "display_name": "Python 3",
   "language": "python",
   "name": "python3"
  },
  "language_info": {
   "codemirror_mode": {
    "name": "ipython",
    "version": 3
   },
   "file_extension": ".py",
   "mimetype": "text/x-python",
   "name": "python",
   "nbconvert_exporter": "python",
   "pygments_lexer": "ipython3",
   "version": "3.5.3"
  }
 },
 "nbformat": 4,
 "nbformat_minor": 2
}
