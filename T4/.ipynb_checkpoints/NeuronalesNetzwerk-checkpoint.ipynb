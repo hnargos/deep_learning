{
 "cells": [
  {
   "cell_type": "code",
   "execution_count": 1,
   "metadata": {
    "collapsed": true
   },
   "outputs": [],
   "source": [
    "import tensorflow as tf\n",
    "import numpy as np\n",
    "import matplotlib.pyplot as plt"
   ]
  },
  {
   "cell_type": "code",
   "execution_count": 2,
   "metadata": {
    "collapsed": true
   },
   "outputs": [],
   "source": [
    "def deep_cnn(features,labels, mode):\n",
    "    ####Input Layer \n",
    "    input_layer=tf.convert_to_tensor(features)\n",
    "    ####convolutional (random filters) and pooling (reduces szise) layers\n",
    "    #convolutional Layer #1\n",
    "    conv1 = tf.layers.conv2d(\n",
    "        inputs=input_layer,\n",
    "        filters=32,\n",
    "        kernel_size=[5, 5],\n",
    "        padding=\"same\",\n",
    "        data_format=\"channels_first\",\n",
    "        activation=tf.nn.relu)\n",
    "    #pooling layer #1\n",
    "    pool1 = tf.layers.average_pooling2d(\n",
    "        inputs=conv1,\n",
    "        pool_size=[2, 2],\n",
    "        strides=2,\n",
    "        data_format=\"channels_first\")\n",
    "    #convolutional Layer #2\n",
    "    conv2 = tf.layers.conv2d(\n",
    "        inputs=pool1,\n",
    "        filters=64,\n",
    "        kernel_size=[3, 3],\n",
    "        data_format=\"channels_first\",\n",
    "        padding=\"same\",\n",
    "        activation=tf.nn.relu)\n",
    "    #pooling layer #2\n",
    "    pool2 = tf.layers.max_pooling2d(\n",
    "        inputs=conv2,\n",
    "        pool_size=[2, 2],\n",
    "        strides=2,\n",
    "        data_format=\"channels_first\")\n",
    "    #convolutional Layer #3\n",
    "    conv2 = tf.layers.conv2d(\n",
    "        inputs=pool2,\n",
    "        filters=128,\n",
    "        kernel_size=[3, 3],\n",
    "        data_format=\"channels_first\",\n",
    "        padding=\"same\",\n",
    "        activation=tf.nn.relu)\n",
    "    #pooling layer #3\n",
    "    pool2 = tf.layers.max_pooling2d(\n",
    "        inputs=conv,\n",
    "        pool_size=[2, 2],\n",
    "        strides=2,\n",
    "        data_format=\"channels_first\")\n",
    "    ####dense layers\n",
    "    #flatten pictures\n",
    "    pool3_flat=tf.reshape(pool3,[-1,pool3.shape[1]*pool3.shape[2]*pool3.shape[3]])\n",
    "    #dense layer #1\n",
    "    dense1 = tf.layers.dense(\n",
    "            inputs=pool3_flat,\n",
    "            units=256,\n",
    "            activation=tf.nn.relu)\n",
    "    #dropout to avoid overfitting\n",
    "    dropout1 = tf.layers.dropout(\n",
    "            inputs=dense1,\n",
    "            rate=0.4,\n",
    "            training=mode == tf.estimator.ModeKeys.TRAIN)\n",
    "    #dense layer #2\n",
    "    dense2 = tf.layers.dense(\n",
    "            inputs=dropout1,\n",
    "            units=128,\n",
    "            activation=tf.nn.relu)\n",
    "    #dropout to avoid overfitting\n",
    "    dropout2 = tf.layers.dropout(\n",
    "            inputs=dense2,\n",
    "            rate=0.4,\n",
    "            training=mode == tf.estimator.ModeKeys.TRAIN)\n",
    "    #final output dense layer\n",
    "    logits= tf.layers.dense(inputs=dense2, units=3)\n",
    "    ####predictions\n",
    "    #predictions as libarry\n",
    "    predictions = {\n",
    "        #makes predictions by highest output\n",
    "        \"classes\": tf.argmax(input=logits, axis=1),\n",
    "        #set logits to sum=1 (probabilitys)\n",
    "        \"probabilities\": tf.nn.softmax(logits, name=\"softmax_tensor\")\n",
    "    }\n",
    "    if mode == tf.estimator.ModeKeys.PREDICT:\n",
    "        return tf.estimator.EstimatorSpec(mode=mode, predictions=predictions)\n",
    "    ####Train and evaluate\n",
    "    # calculate loss\n",
    "    loss = tf.losses.sparse_softmax_cross_entropy(labels=labels, logits=logits)\n",
    "    #training\n",
    "    if mode == tf.estimator.ModeKeys.TRAIN:\n",
    "        optimizer = tf.train.GradientDescentOptimizer(learning_rate=0.001)\n",
    "        train_op = optimizer.minimize(\n",
    "            loss=loss,\n",
    "            global_step=tf.train.get_global_step())\n",
    "        return tf.estimator.EstimatorSpec(mode=mode, loss=loss, train_op=train_op)\n",
    "    #evaluation\n",
    "    eval_metric_ops = {\n",
    "          \"accuracy\": tf.metrics.accuracy(\n",
    "              labels=labels, predictions=predictions[\"classes\"])}\n",
    "    return tf.estimator.EstimatorSpec(\n",
    "          mode=mode, loss=loss, eval_metric_ops=eval_metric_ops)"
   ]
  },
  {
   "cell_type": "code",
   "execution_count": 3,
   "metadata": {
    "collapsed": false
   },
   "outputs": [
    {
     "name": "stdout",
     "output_type": "stream",
     "text": [
      "(6000, 3, 32, 32) float32\n",
      "(6000,) int64\n"
     ]
    },
    {
     "data": {
      "text/plain": [
       "\"np.save('prediction.npy', prediction)\""
      ]
     },
     "execution_count": 3,
     "metadata": {},
     "output_type": "execute_result"
    }
   ],
   "source": [
    "#Dateien laden und shufflen (shufflen ist6 immer gut)\n",
    "with np.load('prediction-challenge-02-data.npz') as fh:\n",
    "    data_shuffle_index=np.arange(6000)\n",
    "    np.random.shuffle(data_shuffle_index)\n",
    "    data_x = fh['data_x'][data_shuffle_index]\n",
    "    data_y = fh['data_y'][data_shuffle_index]\n",
    "    test_x = fh['test_x']\n",
    "\n",
    "# TRAINING DATA: INPUT (x) AND OUTPUT (y)\n",
    "# 1. INDEX: IMAGE SERIAL NUMBER (6000)\n",
    "# 2. INDEX: COLOR CHANNELS (3)\n",
    "# 3/4. INDEX: PIXEL VALUE (32 x 32)\n",
    "print(data_x.shape, data_x.dtype)\n",
    "print(data_y.shape, data_y.dtype)\n",
    "\n",
    "# TEST DATA: INPUT (x) ONLY\n",
    "\"\"\"print(test_x.shape, test_x.dtype)\"\"\"\n",
    "\n",
    "#Daten ausgeben\n",
    "# neuer shape mit (n,32,32,3) (plt.imshow compatibel)\n",
    "\"\"\"data_x=np.rollaxis(data_x,1,4)\n",
    "test_x=np.rollaxis(test_x,1,4)\"\"\"\n",
    "#n=0-6000\n",
    "\"\"\"n=5001\n",
    "plt.imshow(data_x[n])\"\"\"\n",
    "#titel beschreiben\n",
    "\"\"\"def tier(x):\n",
    "    if x==0:\n",
    "        return\"cat\"\n",
    "    elif x==1:\n",
    "        return\"dog\"\n",
    "    elif x==2:\n",
    "        return \"frog\"\n",
    "    else:\n",
    "        return\"error\"\n",
    "plt.title(tier(data_y[n]))\n",
    "plt.show()\"\"\"\n",
    "#generiere mehr testdaten\n",
    "\n",
    "\n",
    "############################################\n",
    "# TRAIN MODEL ON data_x, data_y\n",
    "\n",
    "# PREDICT prediction FROM test_x\n",
    "\n",
    "# MAKE SURE THAT YOU HAVE THE RIGHT FORMAT\n",
    "\"\"\"assert prediction.ndim == 1\n",
    "assert prediction.shape[0] == 300\"\"\"\n",
    "\n",
    "# AND SAVE EXACTLY AS SHOWN BELOW\n",
    "\"\"\"np.save('prediction.npy', prediction)\"\"\""
   ]
  },
  {
   "cell_type": "code",
   "execution_count": 44,
   "metadata": {
    "collapsed": false
   },
   "outputs": [
    {
     "name": "stdout",
     "output_type": "stream",
     "text": [
      "(4, 3, 32, 32)\n",
      "(4, 3, 32, 32)\n"
     ]
    }
   ],
   "source": [
    "test_cnn_x=data_x[0:4]\n",
    "test_cnn_y=data_y[0:4]\n",
    "print(test_cnn_x.shape)\n",
    "#Input Layer \n",
    "input_layer=tf.convert_to_tensor(test_cnn_x)\n",
    "print(input_layer.shape)\n",
    "\n"
   ]
  },
  {
   "cell_type": "code",
   "execution_count": 6,
   "metadata": {
    "collapsed": false
   },
   "outputs": [
    {
     "name": "stdout",
     "output_type": "stream",
     "text": [
      "(32, 32, 3)\n"
     ]
    },
    {
     "data": {
      "image/png": "[encoded data removed]",
      "text/plain": [
       "<matplotlib.figure.Figure at 0x7f4f9ad8d128>"
      ]
     },
     "metadata": {},
     "output_type": "display_data"
    }
   ],
   "source": [
    "input_layer=tf.convert_to_tensor(test_x)\n",
    "\n",
    "n=0\n",
    "sess=tf.Session()\n",
    "a=sess.run(input_layer[n])\n",
    "a=np.rollaxis(a,0,3)\n",
    "\n",
    "print(a.shape)\n",
    "plt.imshow(a)\n",
    "plt.show()"
   ]
  },
  {
   "cell_type": "code",
   "execution_count": null,
   "metadata": {
    "collapsed": true
   },
   "outputs": [],
   "source": []
  },
  {
   "cell_type": "code",
   "execution_count": 40,
   "metadata": {
    "collapsed": false
   },
   "outputs": [],
   "source": [
    "#Input Layer \n",
    "input_layer=tf.convert_to_tensor(test_cnn_x)[0:2]\n",
    "#convolutional Layer #1\n",
    "conv1 = tf.layers.conv2d(\n",
    "    inputs=input_layer,\n",
    "    filters=30,\n",
    "    kernel_size=[5, 5],\n",
    "    data_format=\"channels_first\",\n",
    "    padding=\"same\",\n",
    "    activation=tf.nn.relu)\n",
    "#pooling layer #1\n",
    "pool1 = tf.layers.max_pooling2d(\n",
    "    inputs=conv1, \n",
    "    pool_size=[2, 2],\n",
    "    strides=2,\n",
    "    data_format=\"channels_first\")\n",
    "#convolutional Layer #2\n",
    "conv2 = tf.layers.conv2d(\n",
    "    inputs=pool1,\n",
    "    filters=30,\n",
    "    kernel_size=[3, 3],\n",
    "    data_format=\"channels_first\",\n",
    "    padding=\"same\",\n",
    "    activation=tf.nn.relu)\n",
    "#pooling layer #2\n",
    "pool2 = tf.layers.max_pooling2d(\n",
    "    inputs=conv2,\n",
    "    pool_size=[2, 2],\n",
    "    strides=2,\n",
    "    data_format=\"channels_first\")\n",
    "#convolutional Layer #3\n",
    "conv3 = tf.layers.conv2d(\n",
    "    inputs=pool2,\n",
    "    filters=32,\n",
    "    kernel_size=[3, 3],\n",
    "    data_format=\"channels_first\",\n",
    "    padding=\"same\",\n",
    "    activation=tf.nn.relu)\n",
    "#pooling layer #3\n",
    "pool3 = tf.layers.max_pooling2d(\n",
    "    inputs=conv3,\n",
    "    pool_size=[2, 2],\n",
    "    strides=2,\n",
    "    data_format=\"channels_first\")\n",
    "\n",
    "mode=tf.estimator.ModeKeys.PREDICT\n",
    "\n",
    "#dense layers\n",
    "#flatten pictures\n",
    "pool3_flat=tf.reshape(pool3,[-1,pool3.shape[1]*pool3.shape[2]*pool3.shape[3]])\n",
    "#dense layer #1\n",
    "dense1 = tf.layers.dense(\n",
    "        inputs=pool3_flat,\n",
    "        units=256,\n",
    "        activation=tf.nn.relu)\n",
    "#dropout to avoid overfitting\n",
    "dropout1 = tf.layers.dropout(\n",
    "        inputs=dense1,\n",
    "        rate=0.4,\n",
    "        training=mode == tf.estimator.ModeKeys.TRAIN)\n",
    "#dense layer #2\n",
    "dense2 = tf.layers.dense(\n",
    "        inputs=dropout1,\n",
    "        units=128,\n",
    "        activation=tf.nn.relu)\n",
    "#dropout to avoid overfitting\n",
    "dropout2 = tf.layers.dropout(\n",
    "        inputs=dense2,\n",
    "        rate=0.4,\n",
    "        training=mode == tf.estimator.ModeKeys.TRAIN)\n",
    "#final output dense layer\n",
    "logits= tf.layers.dense(inputs=dense2, units=3)\n",
    "\n",
    "\n",
    "predictions = {\n",
    "    #makes predictions by highest output\n",
    "    \"classes\": tf.argmax(input=logits, axis=1),\n",
    "    #set logits to sum=1 (probabilitys)\n",
    "    \"probabilities\": tf.nn.softmax(logits, name=\"softmax_tensor\")\n",
    "}\n",
    "\n"
   ]
  },
  {
   "cell_type": "code",
   "execution_count": 41,
   "metadata": {
    "collapsed": false
   },
   "outputs": [
    {
     "data": {
      "text/plain": [
       "{'classes': <tf.Tensor 'ArgMax_3:0' shape=(2,) dtype=int64>,\n",
       " 'probabilities': <tf.Tensor 'softmax_tensor_3:0' shape=(2, 3) dtype=float32>}"
      ]
     },
     "execution_count": 41,
     "metadata": {},
     "output_type": "execute_result"
    }
   ],
   "source": [
    "predictions"
   ]
  },
  {
   "cell_type": "code",
   "execution_count": 34,
   "metadata": {
    "collapsed": false
   },
   "outputs": [
    {
     "name": "stdout",
     "output_type": "stream",
     "text": [
      "Tensor(\"conv2d_25/Relu:0\", shape=(2, 30, 32, 32), dtype=float32)\n",
      "Tensor(\"max_pooling2d_25/MaxPool:0\", shape=(2, 30, 16, 16), dtype=float32)\n",
      "Tensor(\"conv2d_26/Relu:0\", shape=(2, 30, 16, 16), dtype=float32)\n",
      "Tensor(\"max_pooling2d_26/MaxPool:0\", shape=(2, 30, 8, 8), dtype=float32)\n",
      "Tensor(\"conv2d_27/Relu:0\", shape=(2, 32, 8, 8), dtype=float32)\n",
      "Tensor(\"max_pooling2d_27/MaxPool:0\", shape=(2, 32, 4, 4), dtype=float32)\n",
      "Tensor(\"Reshape_8:0\", shape=(2, 512), dtype=float32)\n",
      "Tensor(\"dense_21/Relu:0\", shape=(2, 256), dtype=float32)\n",
      "Tensor(\"dense_22/Relu:0\", shape=(2, 128), dtype=float32)\n",
      "Tensor(\"dropout_6/dropout/mul:0\", shape=(2, 128), dtype=float32)\n",
      "Tensor(\"dense_23/BiasAdd:0\", shape=(2, 3), dtype=float32)\n"
     ]
    }
   ],
   "source": [
    "print(conv1)\n",
    "print(pool1)\n",
    "print(conv2)\n",
    "print(pool2)\n",
    "print(conv3)\n",
    "print(pool3)\n",
    "print(pool3_flat)\n",
    "print(dense1)\n",
    "print(dense2)\n",
    "print(dropout2)\n",
    "print(logits)"
   ]
  },
  {
   "cell_type": "code",
   "execution_count": null,
   "metadata": {
    "collapsed": true
   },
   "outputs": [],
   "source": []
  }
 ],
 "metadata": {
  "kernelspec": {
   "display_name": "Python 3",
   "language": "python",
   "name": "python3"
  },
  "language_info": {
   "codemirror_mode": {
    "name": "ipython",
    "version": 3
   },
   "file_extension": ".py",
   "mimetype": "text/x-python",
   "name": "python",
   "nbconvert_exporter": "python",
   "pygments_lexer": "ipython3",
   "version": "3.5.3"
  }
 },
 "nbformat": 4,
 "nbformat_minor": 2
}
