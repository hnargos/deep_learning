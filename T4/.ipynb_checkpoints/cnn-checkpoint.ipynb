{
 "cells": [
  {
   "cell_type": "code",
   "execution_count": 31,
   "metadata": {},
   "outputs": [],
   "source": [
    "import numpy as np\n",
    "import matplotlib.pyplot as plt\n",
    "import torch\n",
    "import torch.nn as nn\n",
    "import torch.nn.functional as F"
   ]
  },
  {
   "cell_type": "code",
   "execution_count": 42,
   "metadata": {},
   "outputs": [
    {
     "name": "stdout",
     "output_type": "stream",
     "text": [
      "torch.Size([3, 2, 4])\n",
      "tensor([[[ 111,  112,  113,  114],\n",
      "         [ 121,  122,  123,  124]],\n",
      "\n",
      "        [[ 211,  212,  213,  214],\n",
      "         [ 221,  222,  223,  224]],\n",
      "\n",
      "        [[ 311,  312,  313,  314],\n",
      "         [ 321,  322,  323,  324]]])\n",
      "tensor([ 1,  2,  3,  4])\n",
      "tensor(223)\n",
      "tensor([[[ 111,  112,  113,  114],\n",
      "         [ 121,  122,  123,  124]],\n",
      "\n",
      "        [[ 211,  212,  213,  214],\n",
      "         [ 221,  222,   42,  224]],\n",
      "\n",
      "        [[ 311,  312,  313,  314],\n",
      "         [ 321,  322,  323,  324]]])\n"
     ]
    },
    {
     "data": {
      "text/plain": [
       "torch.Size([4, 6])"
      ]
     },
     "execution_count": 42,
     "metadata": {},
     "output_type": "execute_result"
    }
   ],
   "source": [
    "x_rand=torch.rand(5,3)\n",
    "x_zero=torch.zeros(3,2)\n",
    "x_rand_like_x_zero=torch.randn_like(x_zero)\n",
    "x_pers=torch.tensor([[[111,112,113,114],[121,122,123,124]],\n",
    "         [[211,212,213,214],[221,222,223,224]],\n",
    "         [[311,312,313,314],[321,322,323,324]]])\n",
    "print(x_pers.shape)\n",
    "print(x_pers)\n",
    "x_reshape=x_pers.view(4,3,2)\n",
    "#print(x_reshape.shape)\n",
    "#print(x_reshape)\n",
    "a=torch.tensor([1,2])\n",
    "b=torch.tensor([3,4])\n",
    "#print(a+b)\n",
    "print(torch.cat([a,b]))\n",
    "a.numpy()\n",
    "print(x_pers[1:2][0,1,2])\n",
    "x_pers[1:2][0,1,2]=42\n",
    "print(x_pers)\n"
   ]
  },
  {
   "cell_type": "code",
   "execution_count": 67,
   "metadata": {},
   "outputs": [
    {
     "name": "stdout",
     "output_type": "stream",
     "text": [
      "(6000, 3, 32, 32) float32\n",
      "(6000,) int64\n"
     ]
    },
    {
     "data": {
      "text/plain": [
       "\"np.save('prediction.npy', prediction)\""
      ]
     },
     "execution_count": 67,
     "metadata": {},
     "output_type": "execute_result"
    }
   ],
   "source": [
    "#Dateien laden und shufflen (shufflen ist6 immer gut)\n",
    "with np.load('prediction-challenge-02-data.npz') as fh:\n",
    "    data_shuffle_index=np.arange(6000)\n",
    "    np.random.shuffle(data_shuffle_index)\n",
    "    data_x = fh['data_x'][data_shuffle_index]\n",
    "    data_y = fh['data_y'][data_shuffle_index]\n",
    "    test_x = fh['test_x']\n",
    "\n",
    "# TRAINING DATA: INPUT (x) AND OUTPUT (y)\n",
    "# 1. INDEX: IMAGE SERIAL NUMBER (6000)\n",
    "# 2. INDEX: COLOR CHANNELS (3)\n",
    "# 3/4. INDEX: PIXEL VALUE (32 x 32)\n",
    "print(data_x.shape, data_x.dtype)\n",
    "print(data_y.shape, data_y.dtype)\n",
    "\n",
    "# TEST DATA: INPUT (x) ONLY\n",
    "\"\"\"print(test_x.shape, test_x.dtype)\"\"\"\n",
    "\n",
    "#Daten ausgeben\n",
    "# neuer shape mit (n,32,32,3) (plt.imshow compatibel)\n",
    "\"\"\"data_x=np.rollaxis(data_x,1,4)\n",
    "test_x=np.rollaxis(test_x,1,4)\"\"\"\n",
    "#n=0-6000\n",
    "\"\"\"n=5001\n",
    "plt.imshow(data_x[n])\"\"\"\n",
    "#titel beschreiben\n",
    "\"\"\"def tier(x):\n",
    "    if x==0:\n",
    "        return\"cat\"\n",
    "    elif x==1:\n",
    "        return\"dog\"\n",
    "    elif x==2:\n",
    "        return \"frog\"\n",
    "    else:\n",
    "        return\"error\"\n",
    "plt.title(tier(data_y[n]))\n",
    "plt.show()\"\"\"\n",
    "#generiere mehr testdaten\n",
    "\n",
    "\n",
    "############################################\n",
    "# TRAIN MODEL ON data_x, data_y\n",
    "\n",
    "# PREDICT prediction FROM test_x\n",
    "\n",
    "# MAKE SURE THAT YOU HAVE THE RIGHT FORMAT\n",
    "\"\"\"assert prediction.ndim == 1\n",
    "assert prediction.shape[0] == 300\"\"\"\n",
    "\n",
    "# AND SAVE EXACTLY AS SHOWN BELOW\n",
    "\"\"\"np.save('prediction.npy', prediction)\"\"\""
   ]
  },
  {
   "cell_type": "code",
   "execution_count": 39,
   "metadata": {},
   "outputs": [
    {
     "data": {
      "text/plain": [
       "1"
      ]
     },
     "execution_count": 39,
     "metadata": {},
     "output_type": "execute_result"
    }
   ],
   "source": [
    "5//2-1"
   ]
  },
  {
   "cell_type": "code",
   "execution_count": 85,
   "metadata": {},
   "outputs": [
    {
     "name": "stdout",
     "output_type": "stream",
     "text": [
      "Net(\n",
      "  (pool1): MaxPool2d(kernel_size=2, stride=2, padding=0, dilation=1, ceil_mode=False)\n",
      "  (pool2): MaxPool2d(kernel_size=2, stride=2, padding=0, dilation=1, ceil_mode=False)\n",
      "  (pool3): MaxPool2d(kernel_size=2, stride=2, padding=0, dilation=1, ceil_mode=False)\n",
      "  (conv1): Conv2d(3, 32, kernel_size=(5, 5), stride=(1, 1))\n",
      "  (conv2): Conv2d(32, 64, kernel_size=(3, 3), stride=(1, 1))\n",
      "  (conv3): Conv2d(64, 128, kernel_size=(3, 3), stride=(1, 1))\n",
      "  (fc1): Linear(in_features=512, out_features=256, bias=True)\n",
      "  (fc2): Linear(in_features=256, out_features=128, bias=True)\n",
      "  (fc3): Linear(in_features=128, out_features=3, bias=True)\n",
      ")\n"
     ]
    }
   ],
   "source": [
    "class Net(nn.Module):\n",
    "\n",
    "    def __init__(self,d=32,f=3,ch1=32,ker1=5,pool1=2,ch2=64,ker2=3,pool2=2,ch3=128,ker3=3,pool3=2,deep1=256,deep2=128,output=3):\n",
    "        super(Net, self).__init__()\n",
    "        # kernel\n",
    "        self.pool1 = nn.MaxPool2d(pool1)\n",
    "        self.pool2 = nn.MaxPool2d(pool2)\n",
    "        self.pool3 = nn.MaxPool2d(pool3)\n",
    "\n",
    "        self.conv1 = nn.Conv2d( f,  ch1, ker1)\n",
    "        self.conv2 = nn.Conv2d(ch1, ch2, ker2)\n",
    "        self.conv3 = nn.Conv2d(ch2, ch3, ker3)\n",
    "        # an affine operation: y = Wx + b\n",
    "        self.fc1 = nn.Linear(ch3*((((d-ker1+1)//pool1-ker2+1)//pool2-ker3+1)//pool3)**2, deep1)\n",
    "        self.fc2 = nn.Linear(deep1, deep2)\n",
    "        self.fc3 = nn.Linear(deep2, output)\n",
    "\n",
    "    def forward(self, x):\n",
    "        # Max pooling\n",
    "        x = self.pool1(F.relu(self.conv1(x)))\n",
    "        x = self.pool2(F.relu(self.conv2(x)))\n",
    "        x = self.pool3(F.relu(self.conv3(x)))\n",
    "        #umschreiben auf 1d\n",
    "        x = x.view(-1, self.num_flat_features(x))\n",
    "        x = F.relu(self.fc1(x))\n",
    "        x = F.relu(self.fc2(x))\n",
    "        x = self.fc3(x)\n",
    "        return x\n",
    "\n",
    "    def num_flat_features(self, x):\n",
    "        size = x.size()[1:]  # all dimensions except the batch dimension\n",
    "        num_features = 1\n",
    "        for s in size:\n",
    "            num_features *= s\n",
    "        return num_features\n",
    "    \n",
    "net=Net()\n",
    "print(net)"
   ]
  },
  {
   "cell_type": "code",
   "execution_count": 76,
   "metadata": {},
   "outputs": [
    {
     "name": "stdout",
     "output_type": "stream",
     "text": [
      "12\n",
      "torch.Size([32, 3, 5, 5])\n"
     ]
    }
   ],
   "source": [
    "params = list(net.parameters())\n",
    "print(len(params))\n",
    "print(params[0].size())  # conv1's .weight"
   ]
  },
  {
   "cell_type": "code",
   "execution_count": 89,
   "metadata": {},
   "outputs": [
    {
     "name": "stdout",
     "output_type": "stream",
     "text": [
      "tensor(1.00000e-02 *\n",
      "       [[ 4.4458, -2.0223, -4.6562]])\n"
     ]
    }
   ],
   "source": [
    "input_test = torch.randn(1,  3, 32, 32)\n",
    "out=net(input_test)\n",
    "print(out)"
   ]
  },
  {
   "cell_type": "code",
   "execution_count": 90,
   "metadata": {},
   "outputs": [],
   "source": [
    "net.zero_grad()\n",
    "out.backward(torch.randn(1, 3))\n",
    "###what do we do here?"
   ]
  },
  {
   "cell_type": "code",
   "execution_count": 91,
   "metadata": {},
   "outputs": [
    {
     "name": "stdout",
     "output_type": "stream",
     "text": [
      "tensor(1.00000e-02 *\n",
      "       [[ 4.4458, -2.0223, -4.6562]])\n"
     ]
    }
   ],
   "source": [
    "print(out)"
   ]
  },
  {
   "cell_type": "code",
   "execution_count": 96,
   "metadata": {},
   "outputs": [
    {
     "data": {
      "text/plain": [
       "tensor([[ 1.,  2.,  3.]])"
      ]
     },
     "execution_count": 96,
     "metadata": {},
     "output_type": "execute_result"
    }
   ],
   "source": [
    "target = torch.arange(1, 4)  # a dummy target, for example\n",
    "target = target.view(1, -1)  # make it the same shape as output\n",
    "target"
   ]
  },
  {
   "cell_type": "code",
   "execution_count": 97,
   "metadata": {},
   "outputs": [
    {
     "name": "stdout",
     "output_type": "stream",
     "text": [
      "tensor(4.7623)\n"
     ]
    }
   ],
   "source": [
    "output = net(input)\n",
    "target = torch.arange(1, 4)  # a dummy target, for example\n",
    "target = target.view(1, -1)  # make it the same shape as output\n",
    "criterion = nn.MSELoss()\n",
    "\n",
    "loss = criterion(output, target)\n",
    "print(loss)"
   ]
  },
  {
   "cell_type": "code",
   "execution_count": 99,
   "metadata": {},
   "outputs": [
    {
     "name": "stdout",
     "output_type": "stream",
     "text": [
      "<MseLossBackward object at 0x7f8b25c60908>\n",
      "<AddmmBackward object at 0x7f8b25c7d1d0>\n",
      "<ExpandBackward object at 0x7f8b25c7d198>\n"
     ]
    }
   ],
   "source": [
    "print(loss.grad_fn)  # MSELoss\n",
    "print(loss.grad_fn.next_functions[0][0])  # Linear\n",
    "print(loss.grad_fn.next_functions[0][0].next_functions[0][0])  # ReLU"
   ]
  },
  {
   "cell_type": "code",
   "execution_count": 100,
   "metadata": {},
   "outputs": [
    {
     "name": "stdout",
     "output_type": "stream",
     "text": [
      "conv1.bias.grad before backward\n",
      "tensor([ 0.,  0.,  0.,  0.,  0.,  0.,  0.,  0.,  0.,  0.,  0.,  0.,\n",
      "         0.,  0.,  0.,  0.,  0.,  0.,  0.,  0.,  0.,  0.,  0.,  0.,\n",
      "         0.,  0.,  0.,  0.,  0.,  0.,  0.,  0.])\n",
      "conv1.bias.grad after backward\n",
      "tensor(1.00000e-02 *\n",
      "       [-0.3915,  0.4594, -0.5806, -1.4043, -0.4551, -0.9353, -0.9885,\n",
      "         0.6813, -0.6315,  0.6708,  0.9958,  0.0025,  2.3231, -0.3357,\n",
      "         0.0412,  0.2288, -0.6455,  0.7459,  1.7584,  0.1744, -0.2203,\n",
      "        -1.0214,  0.4803,  0.4792, -0.3832,  0.3144, -0.7657,  0.9863,\n",
      "        -0.2853,  0.2868, -0.0785,  1.0037])\n"
     ]
    }
   ],
   "source": [
    "net.zero_grad()     # zeroes the gradient buffers of all parameters\n",
    "\n",
    "print('conv1.bias.grad before backward')\n",
    "print(net.conv1.bias.grad)\n",
    "\n",
    "loss.backward()\n",
    "\n",
    "print('conv1.bias.grad after backward')\n",
    "print(net.conv1.bias.grad)"
   ]
  },
  {
   "cell_type": "code",
   "execution_count": 101,
   "metadata": {},
   "outputs": [],
   "source": [
    "learning_rate = 0.01\n",
    "for f in net.parameters():\n",
    "    f.data.sub_(f.grad.data * learning_rate)"
   ]
  },
  {
   "cell_type": "code",
   "execution_count": 102,
   "metadata": {},
   "outputs": [],
   "source": [
    "import torch.optim as optim\n",
    "\n",
    "# create your optimizer\n",
    "optimizer = optim.SGD(net.parameters(), lr=0.01)\n",
    "\n",
    "# in your training loop:\n",
    "optimizer.zero_grad()   # zero the gradient buffers\n",
    "output = net(input)\n",
    "loss = criterion(output, target)\n",
    "loss.backward()\n",
    "optimizer.step()    # Does the update\n"
   ]
  },
  {
   "cell_type": "code",
   "execution_count": null,
   "metadata": {},
   "outputs": [],
   "source": []
  }
 ],
 "metadata": {
  "kernelspec": {
   "display_name": "Python 3",
   "language": "python",
   "name": "python3"
  },
  "language_info": {
   "codemirror_mode": {
    "name": "ipython",
    "version": 3
   },
   "file_extension": ".py",
   "mimetype": "text/x-python",
   "name": "python",
   "nbconvert_exporter": "python",
   "pygments_lexer": "ipython3",
   "version": "3.6.4"
  }
 },
 "nbformat": 4,
 "nbformat_minor": 2
}
